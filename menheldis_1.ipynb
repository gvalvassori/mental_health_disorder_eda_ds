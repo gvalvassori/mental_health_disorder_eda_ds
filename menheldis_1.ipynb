{
 "cells": [
  {
   "attachments": {},
   "cell_type": "markdown",
   "metadata": {},
   "source": [
    "# Global Trends in Mental Helath Disorder\n",
    "#### Public Dataset, credits to https://data.world/amitd\n",
    "\n",
    "## Exploratory Data Analysis of the dataset. \n",
    " Main goal: Discover the trends by answering the following questions\n",
    "* What are the Countries that has the most mental health issues? \n",
    "* How's that related with the Country's economy?\n",
    "* Has mental health disorders increased among young people? What about elderly population?\n",
    "* Does ethnicity have any impact?\n",
    "* Which biological gender has most affected individuals?\n",
    "* How sexual orientation impacts in mental health disorders? \n",
    "* What were the trends during SARS-CoV-2 outbreak?\n",
    "\n",
    "## Future models\n",
    "Based on the results of EDA I will try to build a predictive model for trends in the upcoming years.\n",
    "\n"
   ]
  },
  {
   "cell_type": "code",
   "execution_count": 1,
   "metadata": {},
   "outputs": [],
   "source": [
    "import numpy as np\n",
    "import pandas as pd\n",
    "import matplotlib.pyplot as plt\n",
    "import seaborn as sns"
   ]
  },
  {
   "cell_type": "code",
   "execution_count": null,
   "metadata": {},
   "outputs": [],
   "source": []
  }
 ],
 "metadata": {
  "kernelspec": {
   "display_name": "base",
   "language": "python",
   "name": "python3"
  },
  "language_info": {
   "codemirror_mode": {
    "name": "ipython",
    "version": 3
   },
   "file_extension": ".py",
   "mimetype": "text/x-python",
   "name": "python",
   "nbconvert_exporter": "python",
   "pygments_lexer": "ipython3",
   "version": "3.9.13 (main, Aug 25 2022, 23:51:50) [MSC v.1916 64 bit (AMD64)]"
  },
  "orig_nbformat": 4,
  "vscode": {
   "interpreter": {
    "hash": "50d63da907102541a754a76bd216341704123c5dee874a5ad7d618037d33717c"
   }
  }
 },
 "nbformat": 4,
 "nbformat_minor": 2
}
